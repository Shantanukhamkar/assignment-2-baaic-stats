{
  "nbformat": 4,
  "nbformat_minor": 0,
  "metadata": {
    "colab": {
      "provenance": []
    },
    "kernelspec": {
      "name": "python3",
      "display_name": "Python 3"
    },
    "language_info": {
      "name": "python"
    }
  },
  "cells": [
    {
      "cell_type": "markdown",
      "source": [
        "Basic Statastics -2"
      ],
      "metadata": {
        "id": "_5VrG_nJGVKI"
      }
    },
    {
      "cell_type": "markdown",
      "source": [
        "(Set - 1)\n",
        "Question 1"
      ],
      "metadata": {
        "id": "f61hVDaWGh5v"
      }
    },
    {
      "cell_type": "code",
      "source": [
        "import warnings\n",
        "warnings.filterwarnings('ignore')\n",
        "import pandas as pd\n",
        "import matplotlib.pyplot as plt\n",
        "import numpy as np\n",
        "from scipy import stats\n",
        "%matplotlib inline"
      ],
      "metadata": {
        "id": "46adir8FGlT6"
      },
      "execution_count": 2,
      "outputs": []
    },
    {
      "cell_type": "code",
      "source": [
        "df=pd.DataFrame(data={'Name of the company':['Allied Signal','Bankers Trust','General Mills','ITT Industries','J.P.Morgan & Co.','Lehman Brothers','Marriott','MCI','Merrill Lynch','Microsoft','Morgan Stanley','Sun Microsystems','Travelers','US Airways','Warner-Lambert'],'Measure X':[24.23, 25.53, 25.41, 24.14, 29.62, 28.25, 25.81, 24.39, 40.26, 32.95, 91.36, 25.99, 39.42, 26.71, 35.00]})"
      ],
      "metadata": {
        "id": "kMd4KHheHBNg"
      },
      "execution_count": 3,
      "outputs": []
    },
    {
      "cell_type": "code",
      "source": [
        "df"
      ],
      "metadata": {
        "colab": {
          "base_uri": "https://localhost:8080/",
          "height": 520
        },
        "id": "JLbOlTwfHHGa",
        "outputId": "2c8c2727-16ba-473d-ae0b-71a3411fee79"
      },
      "execution_count": 4,
      "outputs": [
        {
          "output_type": "execute_result",
          "data": {
            "text/plain": [
              "   Name of the company  Measure X\n",
              "0        Allied Signal      24.23\n",
              "1        Bankers Trust      25.53\n",
              "2        General Mills      25.41\n",
              "3       ITT Industries      24.14\n",
              "4     J.P.Morgan & Co.      29.62\n",
              "5      Lehman Brothers      28.25\n",
              "6             Marriott      25.81\n",
              "7                  MCI      24.39\n",
              "8        Merrill Lynch      40.26\n",
              "9            Microsoft      32.95\n",
              "10      Morgan Stanley      91.36\n",
              "11    Sun Microsystems      25.99\n",
              "12           Travelers      39.42\n",
              "13          US Airways      26.71\n",
              "14      Warner-Lambert      35.00"
            ],
            "text/html": [
              "\n",
              "  <div id=\"df-beea0742-51d3-4cbb-9f81-8dbf770b4d30\">\n",
              "    <div class=\"colab-df-container\">\n",
              "      <div>\n",
              "<style scoped>\n",
              "    .dataframe tbody tr th:only-of-type {\n",
              "        vertical-align: middle;\n",
              "    }\n",
              "\n",
              "    .dataframe tbody tr th {\n",
              "        vertical-align: top;\n",
              "    }\n",
              "\n",
              "    .dataframe thead th {\n",
              "        text-align: right;\n",
              "    }\n",
              "</style>\n",
              "<table border=\"1\" class=\"dataframe\">\n",
              "  <thead>\n",
              "    <tr style=\"text-align: right;\">\n",
              "      <th></th>\n",
              "      <th>Name of the company</th>\n",
              "      <th>Measure X</th>\n",
              "    </tr>\n",
              "  </thead>\n",
              "  <tbody>\n",
              "    <tr>\n",
              "      <th>0</th>\n",
              "      <td>Allied Signal</td>\n",
              "      <td>24.23</td>\n",
              "    </tr>\n",
              "    <tr>\n",
              "      <th>1</th>\n",
              "      <td>Bankers Trust</td>\n",
              "      <td>25.53</td>\n",
              "    </tr>\n",
              "    <tr>\n",
              "      <th>2</th>\n",
              "      <td>General Mills</td>\n",
              "      <td>25.41</td>\n",
              "    </tr>\n",
              "    <tr>\n",
              "      <th>3</th>\n",
              "      <td>ITT Industries</td>\n",
              "      <td>24.14</td>\n",
              "    </tr>\n",
              "    <tr>\n",
              "      <th>4</th>\n",
              "      <td>J.P.Morgan &amp; Co.</td>\n",
              "      <td>29.62</td>\n",
              "    </tr>\n",
              "    <tr>\n",
              "      <th>5</th>\n",
              "      <td>Lehman Brothers</td>\n",
              "      <td>28.25</td>\n",
              "    </tr>\n",
              "    <tr>\n",
              "      <th>6</th>\n",
              "      <td>Marriott</td>\n",
              "      <td>25.81</td>\n",
              "    </tr>\n",
              "    <tr>\n",
              "      <th>7</th>\n",
              "      <td>MCI</td>\n",
              "      <td>24.39</td>\n",
              "    </tr>\n",
              "    <tr>\n",
              "      <th>8</th>\n",
              "      <td>Merrill Lynch</td>\n",
              "      <td>40.26</td>\n",
              "    </tr>\n",
              "    <tr>\n",
              "      <th>9</th>\n",
              "      <td>Microsoft</td>\n",
              "      <td>32.95</td>\n",
              "    </tr>\n",
              "    <tr>\n",
              "      <th>10</th>\n",
              "      <td>Morgan Stanley</td>\n",
              "      <td>91.36</td>\n",
              "    </tr>\n",
              "    <tr>\n",
              "      <th>11</th>\n",
              "      <td>Sun Microsystems</td>\n",
              "      <td>25.99</td>\n",
              "    </tr>\n",
              "    <tr>\n",
              "      <th>12</th>\n",
              "      <td>Travelers</td>\n",
              "      <td>39.42</td>\n",
              "    </tr>\n",
              "    <tr>\n",
              "      <th>13</th>\n",
              "      <td>US Airways</td>\n",
              "      <td>26.71</td>\n",
              "    </tr>\n",
              "    <tr>\n",
              "      <th>14</th>\n",
              "      <td>Warner-Lambert</td>\n",
              "      <td>35.00</td>\n",
              "    </tr>\n",
              "  </tbody>\n",
              "</table>\n",
              "</div>\n",
              "      <button class=\"colab-df-convert\" onclick=\"convertToInteractive('df-beea0742-51d3-4cbb-9f81-8dbf770b4d30')\"\n",
              "              title=\"Convert this dataframe to an interactive table.\"\n",
              "              style=\"display:none;\">\n",
              "        \n",
              "  <svg xmlns=\"http://www.w3.org/2000/svg\" height=\"24px\"viewBox=\"0 0 24 24\"\n",
              "       width=\"24px\">\n",
              "    <path d=\"M0 0h24v24H0V0z\" fill=\"none\"/>\n",
              "    <path d=\"M18.56 5.44l.94 2.06.94-2.06 2.06-.94-2.06-.94-.94-2.06-.94 2.06-2.06.94zm-11 1L8.5 8.5l.94-2.06 2.06-.94-2.06-.94L8.5 2.5l-.94 2.06-2.06.94zm10 10l.94 2.06.94-2.06 2.06-.94-2.06-.94-.94-2.06-.94 2.06-2.06.94z\"/><path d=\"M17.41 7.96l-1.37-1.37c-.4-.4-.92-.59-1.43-.59-.52 0-1.04.2-1.43.59L10.3 9.45l-7.72 7.72c-.78.78-.78 2.05 0 2.83L4 21.41c.39.39.9.59 1.41.59.51 0 1.02-.2 1.41-.59l7.78-7.78 2.81-2.81c.8-.78.8-2.07 0-2.86zM5.41 20L4 18.59l7.72-7.72 1.47 1.35L5.41 20z\"/>\n",
              "  </svg>\n",
              "      </button>\n",
              "      \n",
              "  <style>\n",
              "    .colab-df-container {\n",
              "      display:flex;\n",
              "      flex-wrap:wrap;\n",
              "      gap: 12px;\n",
              "    }\n",
              "\n",
              "    .colab-df-convert {\n",
              "      background-color: #E8F0FE;\n",
              "      border: none;\n",
              "      border-radius: 50%;\n",
              "      cursor: pointer;\n",
              "      display: none;\n",
              "      fill: #1967D2;\n",
              "      height: 32px;\n",
              "      padding: 0 0 0 0;\n",
              "      width: 32px;\n",
              "    }\n",
              "\n",
              "    .colab-df-convert:hover {\n",
              "      background-color: #E2EBFA;\n",
              "      box-shadow: 0px 1px 2px rgba(60, 64, 67, 0.3), 0px 1px 3px 1px rgba(60, 64, 67, 0.15);\n",
              "      fill: #174EA6;\n",
              "    }\n",
              "\n",
              "    [theme=dark] .colab-df-convert {\n",
              "      background-color: #3B4455;\n",
              "      fill: #D2E3FC;\n",
              "    }\n",
              "\n",
              "    [theme=dark] .colab-df-convert:hover {\n",
              "      background-color: #434B5C;\n",
              "      box-shadow: 0px 1px 3px 1px rgba(0, 0, 0, 0.15);\n",
              "      filter: drop-shadow(0px 1px 2px rgba(0, 0, 0, 0.3));\n",
              "      fill: #FFFFFF;\n",
              "    }\n",
              "  </style>\n",
              "\n",
              "      <script>\n",
              "        const buttonEl =\n",
              "          document.querySelector('#df-beea0742-51d3-4cbb-9f81-8dbf770b4d30 button.colab-df-convert');\n",
              "        buttonEl.style.display =\n",
              "          google.colab.kernel.accessAllowed ? 'block' : 'none';\n",
              "\n",
              "        async function convertToInteractive(key) {\n",
              "          const element = document.querySelector('#df-beea0742-51d3-4cbb-9f81-8dbf770b4d30');\n",
              "          const dataTable =\n",
              "            await google.colab.kernel.invokeFunction('convertToInteractive',\n",
              "                                                     [key], {});\n",
              "          if (!dataTable) return;\n",
              "\n",
              "          const docLinkHtml = 'Like what you see? Visit the ' +\n",
              "            '<a target=\"_blank\" href=https://colab.research.google.com/notebooks/data_table.ipynb>data table notebook</a>'\n",
              "            + ' to learn more about interactive tables.';\n",
              "          element.innerHTML = '';\n",
              "          dataTable['output_type'] = 'display_data';\n",
              "          await google.colab.output.renderOutput(dataTable, element);\n",
              "          const docLink = document.createElement('div');\n",
              "          docLink.innerHTML = docLinkHtml;\n",
              "          element.appendChild(docLink);\n",
              "        }\n",
              "      </script>\n",
              "    </div>\n",
              "  </div>\n",
              "  "
            ]
          },
          "metadata": {},
          "execution_count": 4
        }
      ]
    },
    {
      "cell_type": "code",
      "source": [
        "df.mean()"
      ],
      "metadata": {
        "colab": {
          "base_uri": "https://localhost:8080/"
        },
        "id": "UHyLDmafHJWh",
        "outputId": "e2a8074b-ff7f-40c0-9f06-89141bf1d240"
      },
      "execution_count": 5,
      "outputs": [
        {
          "output_type": "execute_result",
          "data": {
            "text/plain": [
              "Measure X    33.271333\n",
              "dtype: float64"
            ]
          },
          "metadata": {},
          "execution_count": 5
        }
      ]
    },
    {
      "cell_type": "code",
      "source": [
        "df.var()"
      ],
      "metadata": {
        "colab": {
          "base_uri": "https://localhost:8080/"
        },
        "id": "rz6TzdOuHPrD",
        "outputId": "24e3be6f-98c9-4bd2-8880-261ebeb4e3d5"
      },
      "execution_count": 6,
      "outputs": [
        {
          "output_type": "execute_result",
          "data": {
            "text/plain": [
              "Measure X    287.146612\n",
              "dtype: float64"
            ]
          },
          "metadata": {},
          "execution_count": 6
        }
      ]
    },
    {
      "cell_type": "code",
      "source": [
        "df.std()"
      ],
      "metadata": {
        "colab": {
          "base_uri": "https://localhost:8080/"
        },
        "id": "oxsu0Wc1HSFQ",
        "outputId": "e1d978f5-2861-4bac-8a5f-becc6520cd62"
      },
      "execution_count": 7,
      "outputs": [
        {
          "output_type": "execute_result",
          "data": {
            "text/plain": [
              "Measure X    16.945401\n",
              "dtype: float64"
            ]
          },
          "metadata": {},
          "execution_count": 7
        }
      ]
    },
    {
      "cell_type": "code",
      "source": [
        "plt.boxplot(df['Measure X'])"
      ],
      "metadata": {
        "colab": {
          "base_uri": "https://localhost:8080/",
          "height": 404
        },
        "id": "d6GrZ2tQHUJX",
        "outputId": "232b0fd0-c5fe-49a5-e44e-f81201b3a97e"
      },
      "execution_count": 8,
      "outputs": [
        {
          "output_type": "execute_result",
          "data": {
            "text/plain": [
              "{'whiskers': [<matplotlib.lines.Line2D at 0x7f6f5ba4f850>,\n",
              "  <matplotlib.lines.Line2D at 0x7f6f5ba4fd90>],\n",
              " 'caps': [<matplotlib.lines.Line2D at 0x7f6f5ba5b310>,\n",
              "  <matplotlib.lines.Line2D at 0x7f6f5ba5b850>],\n",
              " 'boxes': [<matplotlib.lines.Line2D at 0x7f6f5ba4f210>],\n",
              " 'medians': [<matplotlib.lines.Line2D at 0x7f6f5ba5bdd0>],\n",
              " 'fliers': [<matplotlib.lines.Line2D at 0x7f6f5ba61350>],\n",
              " 'means': []}"
            ]
          },
          "metadata": {},
          "execution_count": 8
        },
        {
          "output_type": "display_data",
          "data": {
            "text/plain": [
              "<Figure size 432x288 with 1 Axes>"
            ],
            "image/png": "[encoded data removed]"
          },
          "metadata": {
            "needs_background": "light"
          }
        }
      ]
    },
    {
      "cell_type": "code",
      "source": [
        "plt.figure(figsize=(6,8))\n",
        "plt.pie(df['Measure X'],autopct='%1.0f%%',labels=df['Name of the company'])\n",
        "plt.show()"
      ],
      "metadata": {
        "colab": {
          "base_uri": "https://localhost:8080/",
          "height": 366
        },
        "id": "whcOEwt6Hasb",
        "outputId": "47f53d15-0732-4601-c030-a18358d64039"
      },
      "execution_count": 9,
      "outputs": [
        {
          "output_type": "display_data",
          "data": {
            "text/plain": [
              "<Figure size 432x576 with 1 Axes>"
            ],
            "image/png": "[encoded data removed]"
          },
          "metadata": {}
        }
      ]
    },
    {
      "cell_type": "markdown",
      "source": [
        "Assignment 2\n",
        "\n",
        "\n",
        "Set 2\n",
        "\n",
        "\n",
        "Question no 1"
      ],
      "metadata": {
        "id": "D4HCssu1IBZ1"
      }
    },
    {
      "cell_type": "code",
      "source": [
        "import pandas as pd\n",
        "from scipy import stats\n",
        "import numpy as np"
      ],
      "metadata": {
        "id": "QfPYPNCsIG0H"
      },
      "execution_count": 21,
      "outputs": []
    },
    {
      "cell_type": "code",
      "source": [
        "1-stats.norm.cdf(0.625)"
      ],
      "metadata": {
        "colab": {
          "base_uri": "https://localhost:8080/"
        },
        "id": "P3uDNWPIIVOQ",
        "outputId": "ff330072-1c01-483c-9f62-251cec20b757"
      },
      "execution_count": 11,
      "outputs": [
        {
          "output_type": "execute_result",
          "data": {
            "text/plain": [
              "0.26598552904870054"
            ]
          },
          "metadata": {},
          "execution_count": 11
        }
      ]
    },
    {
      "cell_type": "markdown",
      "source": [
        "Question 2"
      ],
      "metadata": {
        "id": "xXiSxVc2IcWn"
      }
    },
    {
      "cell_type": "code",
      "source": [
        "### A. More employees at the processing center are older than 44 than between 38 and 44.\n",
        "\n",
        "### p(X>44); Employees older than 44 yrs of age\n",
        "\n",
        "\n",
        "1-stats.norm.cdf(44,loc=38,scale=6)"
      ],
      "metadata": {
        "colab": {
          "base_uri": "https://localhost:8080/"
        },
        "id": "AEEHO6UFIeG3",
        "outputId": "9b28b49c-e754-4658-f59b-167c623aa2da"
      },
      "execution_count": 12,
      "outputs": [
        {
          "output_type": "execute_result",
          "data": {
            "text/plain": [
              "0.15865525393145707"
            ]
          },
          "metadata": {},
          "execution_count": 12
        }
      ]
    },
    {
      "cell_type": "code",
      "source": [
        "### p(38<X<44); Employees between 38 to 44 yrs of age\n",
        "\n",
        "stats.norm.cdf(44,38,6)-stats.norm.cdf(38,38,6)"
      ],
      "metadata": {
        "colab": {
          "base_uri": "https://localhost:8080/"
        },
        "id": "omTAalmfIhCl",
        "outputId": "2d3025b5-fd31-47f5-abb7-21615e6d4f42"
      },
      "execution_count": 13,
      "outputs": [
        {
          "output_type": "execute_result",
          "data": {
            "text/plain": [
              "0.3413447460685429"
            ]
          },
          "metadata": {},
          "execution_count": 13
        }
      ]
    },
    {
      "cell_type": "code",
      "source": [
        "### B. A training program for employees under the age of 30 at the center would be expected to attract about 36 employees.\n",
        "\n",
        "### P(X<30); Employees under 30 yrs of age\n",
        "\n",
        "stats.norm.cdf(30,38,6)"
      ],
      "metadata": {
        "colab": {
          "base_uri": "https://localhost:8080/"
        },
        "id": "vkNYICb-Ipkl",
        "outputId": "6e445af1-4212-45cd-9f34-4c140a0a507e"
      },
      "execution_count": 14,
      "outputs": [
        {
          "output_type": "execute_result",
          "data": {
            "text/plain": [
              "0.09121121972586788"
            ]
          },
          "metadata": {},
          "execution_count": 14
        }
      ]
    },
    {
      "cell_type": "code",
      "source": [
        "### No. of employees attending training program from 400 nos. is N*P(X<30)\n",
        "\n",
        "400*stats.norm.cdf(30,38,6)"
      ],
      "metadata": {
        "colab": {
          "base_uri": "https://localhost:8080/"
        },
        "id": "CCYURxWbIwAA",
        "outputId": "ab676854-2deb-485c-f4ef-2e0c0861bf1b"
      },
      "execution_count": 15,
      "outputs": [
        {
          "output_type": "execute_result",
          "data": {
            "text/plain": [
              "36.484487890347154"
            ]
          },
          "metadata": {},
          "execution_count": 15
        }
      ]
    },
    {
      "cell_type": "markdown",
      "source": [
        "Question 4"
      ],
      "metadata": {
        "id": "786lzmp5I1iW"
      }
    },
    {
      "cell_type": "code",
      "source": [
        "stats.norm.interval(0.99,100,20)"
      ],
      "metadata": {
        "colab": {
          "base_uri": "https://localhost:8080/"
        },
        "id": "gXeLRzzyJIR6",
        "outputId": "0339c47f-3bc3-416f-b30f-e1c9b6bec1ab"
      },
      "execution_count": 16,
      "outputs": [
        {
          "output_type": "execute_result",
          "data": {
            "text/plain": [
              "(48.48341392902199, 151.516586070978)"
            ]
          },
          "metadata": {},
          "execution_count": 16
        }
      ]
    },
    {
      "cell_type": "markdown",
      "source": [
        "Question 5"
      ],
      "metadata": {
        "id": "ndeWMVxXJQVn"
      }
    },
    {
      "cell_type": "code",
      "source": [
        "# Combine Mean Profit of both division for Company= mean1 + mean2\n",
        "mean1 = 5\n",
        "mean2 = 7\n",
        "Mean = (mean1+mean2) # 1 USD = 45 rupees\n",
        "print('The Mean Profit of both division:',Mean, 'Million$')\n",
        "print('The Mean Profit of both division:',(Mean*45)/10, 'Crore Rupees')\n",
        "\n",
        "# Combine standard Deviation = (Std1^2 + Std2^2)^1/2\n",
        "std1 = 3**2\n",
        "std2 = 4**2\n",
        "Std = np.sqrt(std1 + std2)\n",
        "print('The Standard Deviation of both division:', Std, 'Million$')\n",
        "print('The Standard Deviation of both division:', (Std*45)/10, 'Crore Rupees')"
      ],
      "metadata": {
        "colab": {
          "base_uri": "https://localhost:8080/"
        },
        "id": "KmKVweszI3QP",
        "outputId": "ef9fc377-4220-4d38-d4ac-ea7ddc6ef911"
      },
      "execution_count": 22,
      "outputs": [
        {
          "output_type": "stream",
          "name": "stdout",
          "text": [
            "The Mean Profit of both division: 12 Million$\n",
            "The Mean Profit of both division: 54.0 Crore Rupees\n",
            "The Standard Deviation of both division: 5.0 Million$\n",
            "The Standard Deviation of both division: 22.5 Crore Rupees\n"
          ]
        }
      ]
    },
    {
      "cell_type": "code",
      "source": [
        "### A. Specify a Rupee range (centered on the mean) such that it contains 95% probability for the annual profit of the company.\n",
        "r1, r2 = np.round(stats.norm.interval(0.95, Mean, Std),2)\n",
        "print('Rupee Ranges from',r1,'to',r2,'Million$ in Annual profit of the Company 95% of the time')\n",
        "print('Rupee Ranges from',np.divide(np.multiply(r1,45),10),'to',np.divide(np.multiply(r2,45),10),'Crore Rupees in Annual profit of the Company 95% of the time')"
      ],
      "metadata": {
        "colab": {
          "base_uri": "https://localhost:8080/"
        },
        "id": "GS5-6KpbJgxp",
        "outputId": "59b8b043-6d12-4f73-c5eb-42da5835cbd7"
      },
      "execution_count": 25,
      "outputs": [
        {
          "output_type": "stream",
          "name": "stdout",
          "text": [
            "Rupee Ranges from 2.2 to 21.8 Million$ in Annual profit of the Company 95% of the time\n",
            "Rupee Ranges from 9.900000000000002 to 98.1 Crore Rupees in Annual profit of the Company 95% of the time\n"
          ]
        }
      ]
    },
    {
      "cell_type": "code",
      "source": [
        "### B. Specify the 5th percentile of profit (in Rupees) for the company\n",
        "# Z value  = X_bar - Mew / Std pop \n",
        "# for percentile, X_percentile = (Zvalue * Std pop) + Mew\n",
        "Z_05_ = stats.norm.ppf(0.05)\n",
        "Fifth_percentile = (Z_05_ * Std) + Mean\n",
        "print('The 5th percentile of Profit for the company is',np.round(Fifth_percentile,2),'Million$')\n",
        "print('The 5th percentile of Profit for the company is',np.round((Fifth_percentile*45)/10,),'Crore Rupees')"
      ],
      "metadata": {
        "colab": {
          "base_uri": "https://localhost:8080/"
        },
        "id": "0w4BKZZ3u0L5",
        "outputId": "ec4c9bcb-7040-4518-b654-94d41887d24e"
      },
      "execution_count": 26,
      "outputs": [
        {
          "output_type": "stream",
          "name": "stdout",
          "text": [
            "The 5th percentile of Profit for the company is 3.78 Million$\n",
            "The 5th percentile of Profit for the company is 17.0 Crore Rupees\n"
          ]
        }
      ]
    },
    {
      "cell_type": "code",
      "source": [
        "### C. Which of the two divisions has a larger probability of making a loss in a given year?\n",
        "\n",
        "### Probability of Division 1 making a loss P(X<0)\n",
        "\n",
        "stats.norm.cdf(0,5,3)"
      ],
      "metadata": {
        "colab": {
          "base_uri": "https://localhost:8080/"
        },
        "id": "J78ZVOgXJvUe",
        "outputId": "9f024104-47d0-4820-d4ed-eb1298297c03"
      },
      "execution_count": 27,
      "outputs": [
        {
          "output_type": "execute_result",
          "data": {
            "text/plain": [
              "0.0477903522728147"
            ]
          },
          "metadata": {},
          "execution_count": 27
        }
      ]
    },
    {
      "cell_type": "code",
      "source": [
        "### probabiltiy of division 2 making a loss P(X<0)\n",
        "\n",
        "stats.norm.cdf(0,7,4)"
      ],
      "metadata": {
        "colab": {
          "base_uri": "https://localhost:8080/"
        },
        "id": "E6n4kq3YJ0Pe",
        "outputId": "e5f5cfa8-9ca0-44da-cc78-7a8a06e27c2f"
      },
      "execution_count": 28,
      "outputs": [
        {
          "output_type": "execute_result",
          "data": {
            "text/plain": [
              "0.040059156863817086"
            ]
          },
          "metadata": {},
          "execution_count": 28
        }
      ]
    },
    {
      "cell_type": "markdown",
      "source": [
        "set 3\n",
        "\n",
        "Question 5(i)"
      ],
      "metadata": {
        "id": "7NaRbVB8KD8-"
      }
    },
    {
      "cell_type": "code",
      "source": [
        "## apply one-sample one-tail z-test\n",
        "z_scores=(0.046-0.05)/(np.sqrt((0.05*(1-0.05))/2000))\n",
        "z_scores"
      ],
      "metadata": {
        "colab": {
          "base_uri": "https://localhost:8080/"
        },
        "id": "nAENB5HZKCql",
        "outputId": "efeb9985-8ad3-43b6-a1c5-faa8b1213727"
      },
      "execution_count": 29,
      "outputs": [
        {
          "output_type": "execute_result",
          "data": {
            "text/plain": [
              "-0.820782681668124"
            ]
          },
          "metadata": {},
          "execution_count": 29
        }
      ]
    },
    {
      "cell_type": "markdown",
      "source": [
        "Question 5(ii)"
      ],
      "metadata": {
        "id": "IVZQ8yBoK6zZ"
      }
    },
    {
      "cell_type": "code",
      "source": [
        "# Find Probability assuming null hyposthesis, so as to compare with Type-1 error α = 0.05\n",
        "p_value=1-stats.norm.cdf(abs(z_scores))\n",
        "p_value"
      ],
      "metadata": {
        "colab": {
          "base_uri": "https://localhost:8080/"
        },
        "id": "b0tpsiWNKuNu",
        "outputId": "f0173746-3f95-4429-c8f2-d2e095576653"
      },
      "execution_count": 30,
      "outputs": [
        {
          "output_type": "execute_result",
          "data": {
            "text/plain": [
              "0.20588503245107104"
            ]
          },
          "metadata": {},
          "execution_count": 30
        }
      ]
    },
    {
      "cell_type": "code",
      "source": [
        "stats.t.ppf(0.954,2000)"
      ],
      "metadata": {
        "colab": {
          "base_uri": "https://localhost:8080/"
        },
        "id": "nvzdUph2K_pI",
        "outputId": "7cef5603-4a84-4372-ad16-3c0cacdb2908"
      },
      "execution_count": 31,
      "outputs": [
        {
          "output_type": "execute_result",
          "data": {
            "text/plain": [
              "1.6857497236229495"
            ]
          },
          "metadata": {},
          "execution_count": 31
        }
      ]
    },
    {
      "cell_type": "markdown",
      "source": [
        "SET 4\n",
        "\n",
        "Question 4"
      ],
      "metadata": {
        "id": "tXJugykxLLub"
      }
    },
    {
      "cell_type": "code",
      "source": [
        "x_bar=45\n",
        "s_std=40\n",
        "mew=50\n",
        "\n",
        "t=np.round(stats.t.ppf(0.025, df=249),2)\n",
        "t\n",
        "\n",
        "# t_value = (x_bar - mew)/(sample_std/n**0.5)\n",
        "# t = 45-50 or z = 55-50 z = +/- 5\n",
        "\n",
        "# t = 5/(40/n**0.5)\n",
        "# n = (sample_standard_deviation*tscore)/(sample_mean=population_mean)\n",
        "n = ((s_std*abs(t)) / (5))**2\n",
        "\n",
        "print('The Auditors would like to maintain the probability of investigation to 5%, they should sample',np.round(n,),'transactions if they do not want to change the thresholds of 45 to 55')\n",
        "\n",
        "df= n-1\n",
        "print(n, df)\n",
        "\n",
        "np.round(stats.t.interval(alpha = 0.95, df = df, loc = mew, scale = s_std/np.sqrt(n)),)"
      ],
      "metadata": {
        "colab": {
          "base_uri": "https://localhost:8080/"
        },
        "id": "TKoYZ5GALDsv",
        "outputId": "14990c45-c12b-49ff-9561-3846c29f16c2"
      },
      "execution_count": 33,
      "outputs": [
        {
          "output_type": "stream",
          "name": "stdout",
          "text": [
            "The Auditors would like to maintain the probability of investigation to 5%, they should sample 248.0 transactions if they do not want to change the thresholds of 45 to 55\n",
            "248.3776 247.3776\n"
          ]
        },
        {
          "output_type": "execute_result",
          "data": {
            "text/plain": [
              "array([45., 55.])"
            ]
          },
          "metadata": {},
          "execution_count": 33
        }
      ]
    }
  ]
}